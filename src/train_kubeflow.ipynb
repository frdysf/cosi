{
 "cells": [
  {
   "cell_type": "code",
   "execution_count": 29,
   "metadata": {},
   "outputs": [
    {
     "name": "stdout",
     "output_type": "stream",
     "text": [
      "Requirement already satisfied: kubeflow-training in /opt/conda/lib/python3.11/site-packages (1.9.3)\n",
      "Requirement already satisfied: certifi>=14.05.14 in /opt/conda/lib/python3.11/site-packages (from kubeflow-training) (2025.1.31)\n",
      "Requirement already satisfied: six>=1.10 in /opt/conda/lib/python3.11/site-packages (from kubeflow-training) (1.17.0)\n",
      "Requirement already satisfied: setuptools>=21.0.0 in /opt/conda/lib/python3.11/site-packages (from kubeflow-training) (75.8.0)\n",
      "Requirement already satisfied: urllib3>=1.15.1 in /opt/conda/lib/python3.11/site-packages (from kubeflow-training) (1.26.20)\n",
      "Requirement already satisfied: kubernetes>=27.2.0 in /opt/conda/lib/python3.11/site-packages (from kubeflow-training) (30.1.0)\n",
      "Requirement already satisfied: retrying>=1.3.3 in /opt/conda/lib/python3.11/site-packages (from kubeflow-training) (1.4.2)\n",
      "Requirement already satisfied: python-dateutil>=2.5.3 in /opt/conda/lib/python3.11/site-packages (from kubernetes>=27.2.0->kubeflow-training) (2.9.0.post0)\n",
      "Requirement already satisfied: pyyaml>=5.4.1 in /opt/conda/lib/python3.11/site-packages (from kubernetes>=27.2.0->kubeflow-training) (6.0.2)\n",
      "Requirement already satisfied: google-auth>=1.0.1 in /opt/conda/lib/python3.11/site-packages (from kubernetes>=27.2.0->kubeflow-training) (2.38.0)\n",
      "Requirement already satisfied: websocket-client!=0.40.0,!=0.41.*,!=0.42.*,>=0.32.0 in /opt/conda/lib/python3.11/site-packages (from kubernetes>=27.2.0->kubeflow-training) (1.8.0)\n",
      "Requirement already satisfied: requests in /opt/conda/lib/python3.11/site-packages (from kubernetes>=27.2.0->kubeflow-training) (2.32.3)\n",
      "Requirement already satisfied: requests-oauthlib in /opt/conda/lib/python3.11/site-packages (from kubernetes>=27.2.0->kubeflow-training) (2.0.0)\n",
      "Requirement already satisfied: oauthlib>=3.2.2 in /opt/conda/lib/python3.11/site-packages (from kubernetes>=27.2.0->kubeflow-training) (3.2.2)\n",
      "Requirement already satisfied: cachetools<6.0,>=2.0.0 in /opt/conda/lib/python3.11/site-packages (from google-auth>=1.0.1->kubernetes>=27.2.0->kubeflow-training) (5.5.1)\n",
      "Requirement already satisfied: pyasn1-modules>=0.2.1 in /opt/conda/lib/python3.11/site-packages (from google-auth>=1.0.1->kubernetes>=27.2.0->kubeflow-training) (0.4.1)\n",
      "Requirement already satisfied: rsa<5,>=3.1.4 in /opt/conda/lib/python3.11/site-packages (from google-auth>=1.0.1->kubernetes>=27.2.0->kubeflow-training) (4.9)\n",
      "Requirement already satisfied: charset_normalizer<4,>=2 in /opt/conda/lib/python3.11/site-packages (from requests->kubernetes>=27.2.0->kubeflow-training) (3.4.1)\n",
      "Requirement already satisfied: idna<4,>=2.5 in /opt/conda/lib/python3.11/site-packages (from requests->kubernetes>=27.2.0->kubeflow-training) (3.10)\n",
      "Requirement already satisfied: pyasn1<0.7.0,>=0.4.6 in /opt/conda/lib/python3.11/site-packages (from pyasn1-modules>=0.2.1->google-auth>=1.0.1->kubernetes>=27.2.0->kubeflow-training) (0.6.1)\n",
      "Note: you may need to restart the kernel to use updated packages.\n",
      "Requirement already satisfied: hydra-core in /opt/conda/lib/python3.11/site-packages (1.3.2)\n",
      "Requirement already satisfied: omegaconf<2.4,>=2.2 in /opt/conda/lib/python3.11/site-packages (from hydra-core) (2.3.0)\n",
      "Requirement already satisfied: antlr4-python3-runtime==4.9.* in /opt/conda/lib/python3.11/site-packages (from hydra-core) (4.9.3)\n",
      "Requirement already satisfied: packaging in /opt/conda/lib/python3.11/site-packages (from hydra-core) (24.2)\n",
      "Requirement already satisfied: PyYAML>=5.1.0 in /opt/conda/lib/python3.11/site-packages (from omegaconf<2.4,>=2.2->hydra-core) (6.0.2)\n",
      "Note: you may need to restart the kernel to use updated packages.\n"
     ]
    }
   ],
   "source": [
    "%pip install kubeflow-training\n",
    "%pip install hydra-core"
   ]
  },
  {
   "cell_type": "code",
   "execution_count": 30,
   "metadata": {},
   "outputs": [],
   "source": [
    "def train_func():\n",
    "    import sys\n",
    "    sys.path.append(\"/workspace/files/cosi/src\")\n",
    "\n",
    "    import os\n",
    "    import subprocess\n",
    "    os.chdir(\"files/cosi\")\n",
    "    subprocess.run([\"python\", \"src/train.py\"])\n",
    "    # subprocess.run([\"pwd\", \".\"])\n",
    "    # subprocess.run([\"ls\", \".\"])\n",
    "\n",
    "    # from hydra import initialize_config_dir, compose\n",
    "\n",
    "    # initialize_config_dir(version_base=\"1.2\", config_dir=\"/files/cosi/config\")\n",
    "    # cfg = compose(config_name=\"config_train.yaml\", return_hydra_config=True)\n",
    "\n",
    "    # from train import main\n",
    "    # main(cfg)"
   ]
  },
  {
   "cell_type": "raw",
   "metadata": {
    "vscode": {
     "languageId": "raw"
    }
   },
   "source": [
    "%pip install torch lightning pandas\n",
    "%pip install torchaudio soundfile\n",
    "%pip install git+https://github.com/kymatio/kymatio.git\n",
    "%pip install -e .."
   ]
  },
  {
   "cell_type": "code",
   "execution_count": 31,
   "metadata": {},
   "outputs": [
    {
     "name": "stderr",
     "output_type": "stream",
     "text": [
      "Queue 'c4dm' does not exist in namespace 'kf-acw745'. The job will be created but may not be managed by Kueue.\n"
     ]
    }
   ],
   "source": [
    "from kubeflow.training import TrainingClient, models\n",
    "\n",
    "train = TrainingClient()\n",
    "\n",
    "train.create_job(\n",
    "    name=\"kube-pilot\",\n",
    "    train_func=train_func,\n",
    "    num_procs_per_worker=\"1\",\n",
    "    packages_to_install=[\"torch\", \"torchaudio\", \"soundfile\", \"hydra-core\", \"omegaconf\", \"lightning\", \\\n",
    "        \"wandb\", \"pandas\", \"matplotlib\", \"git+https://github.com/kymatio/kymatio.git\", \n",
    "        \"git+https://github.com/tiianhk/timbremetrics.git\"],\n",
    "    num_workers=1,\n",
    "    base_image=\"harbor.a.comp-teach.qmul.ac.uk/talos-image/c4dm/pytorch-2.8.0-cuda12.8-cudnn9-runtime-git:0.0.1\",\n",
    "    volumes=[models.V1Volume(name=\"files\", persistent_volume_claim=models.V1PersistentVolumeClaimVolumeSource(claim_name=\"acw745-shared-fs\")),\n",
    "        models.V1Volume(name=\"data\", persistent_volume_claim=models.V1PersistentVolumeClaimVolumeSource(claim_name=\"acw745-data\"))\n",
    "    ],\n",
    "    volume_mounts=[models.V1VolumeMount(name=\"files\", mount_path=\"/workspace/files\"), models.V1VolumeMount(name=\"data\", mount_path=\"/data\")],\n",
    "    resources_per_worker={\n",
    "        \"nvidia.com/a100-80g\": \"1\"\n",
    "    },\n",
    "    queue_name=\"c4dm\"\n",
    ")"
   ]
  },
  {
   "cell_type": "code",
   "execution_count": 32,
   "metadata": {},
   "outputs": [
    {
     "data": {
      "text/plain": [
       "({'kube-pilot-master-0': \"  DEPRECATION: Building 'kymatio' using the legacy setup.py bdist_wheel mechanism, which will be removed in a future version. pip 25.3 will enforce this behaviour change. A possible replacement is to use the standardized build interface by setting the `--use-pep517` option, (possibly combined with `--no-build-isolation`), or adding a `pyproject.toml` file to the source tree of 'kymatio'. Discussion can be found at https://github.com/pypa/pip/issues/6334\\n\"},\n",
       " {'pod/kube-pilot-master-0': ['2025-09-16 13:23:46 Successfully assigned kf-acw745/kube-pilot-master-0 to gt04',\n",
       "   '2025-09-16 13:23:47 AttachVolume.Attach succeeded for volume \"pvc-2e6b5e3b-f364-41c5-ab4f-6ba40bf7eada\" ',\n",
       "   '2025-09-16 13:23:47 AttachVolume.Attach succeeded for volume \"pvc-cbdfaedc-2bcc-40d0-94e7-aa6c71949ba5\" ',\n",
       "   '2025-09-16 13:24:00 Container image \"harbor.a.comp-teach.qmul.ac.uk/talos-image/c4dm/pytorch-2.8.0-cuda12.8-cudnn9-runtime-git:0.0.1\" already present on machine',\n",
       "   '2025-09-16 13:24:00 Created container: pytorch',\n",
       "   '2025-09-16 13:24:01 Started container pytorch'],\n",
       "  'pytorchjob/kube-pilot': ['2025-09-16 13:23:46 Created pod: kube-pilot-master-0',\n",
       "   '2025-09-16 13:23:46 Created service: kube-pilot-master-0']})"
      ]
     },
     "execution_count": 32,
     "metadata": {},
     "output_type": "execute_result"
    }
   ],
   "source": [
    "train.wait_for_job_conditions(name=\"kube-pilot\", expected_conditions={\"Running\"})\n",
    "\n",
    "train.get_job_logs(name=\"kube-pilot\", verbose=True)"
   ]
  }
 ],
 "metadata": {
  "kernelspec": {
   "display_name": "base",
   "language": "python",
   "name": "python3"
  },
  "language_info": {
   "codemirror_mode": {
    "name": "ipython",
    "version": 3
   },
   "file_extension": ".py",
   "mimetype": "text/x-python",
   "name": "python",
   "nbconvert_exporter": "python",
   "pygments_lexer": "ipython3",
   "version": "3.11.11"
  }
 },
 "nbformat": 4,
 "nbformat_minor": 2
}
