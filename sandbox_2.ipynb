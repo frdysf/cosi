{
 "cells": [
  {
   "cell_type": "code",
   "execution_count": 1,
   "id": "38dd9faf",
   "metadata": {},
   "outputs": [
    {
     "name": "stderr",
     "output_type": "stream",
     "text": [
      "/Users/farida/fy105/cosi/.pixi/envs/default/lib/python3.11/site-packages/tensorflow_hub/__init__.py:61: UserWarning: pkg_resources is deprecated as an API. See https://setuptools.pypa.io/en/latest/pkg_resources.html. The pkg_resources package is slated for removal as early as 2025-11-30. Refrain from using this package or pin to Setuptools<81.\n",
      "  from pkg_resources import parse_version\n"
     ]
    }
   ],
   "source": [
    "from s1dt.data import FeatureExtractorSOL"
   ]
  },
  {
   "cell_type": "code",
   "execution_count": null,
   "id": "0c12775e",
   "metadata": {},
   "outputs": [],
   "source": [
    "sol_dir = \"/path/to/sol\"\n",
    "device = \"cpu\"\n",
    "batch_size = 32\n",
    "\n",
    "features = {\n",
    "    # \"scat1d\": {\n",
    "    #     \"shape\": (2**16, ),\n",
    "    #     \"Q\": (12, 2),\n",
    "    #     \"J\": 12,\n",
    "    #     \"global_avg\": False\n",
    "    # }, \n",
    "    \"jtfs\": {\n",
    "        \"shape\": (2**16, ),\n",
    "        \"Q\": (12, 2),\n",
    "        \"J\": 12,\n",
    "        \"J_fr\": 3,\n",
    "        \"Q_fr\": 2,\n",
    "        \"F\": 12,\n",
    "        \"global_avg\": False\n",
    "    },\n",
    "    # \"cqt\": {\n",
    "    #     \"n_bins\": 144,\n",
    "    #     \"bins_per_octave\": 16,\n",
    "    #     \"hop_length\": 512,\n",
    "    #     \"global_avg\": False\n",
    "    # }\n",
    "}\n",
    "for feature_id, feature_kwargs in features.items():\n",
    "    extractor = FeatureExtractorSOL(sol_dir, device=device, batch_size=batch_size, feature_id=feature_id, in_shape=2**16, **feature_kwargs)\n",
    "    extractor.extract()\n",
    "    extractor.save_features()\n",
    "    extractor.save_stats()"
   ]
  },
  {
   "cell_type": "code",
   "execution_count": null,
   "id": "7f8fa247",
   "metadata": {},
   "outputs": [],
   "source": [
    "# TODO: load JTFS from numpy files\n",
    "# TODO: plot JTFS for some audio samples, view different parameters\n",
    "# TODO: DO THIS FOR FRIDAY MEETING W/ MARCUS"
   ]
  },
  {
   "cell_type": "code",
   "execution_count": null,
   "id": "67cf6181",
   "metadata": {},
   "outputs": [],
   "source": [
    "# TODO: pass SLE through torchinfo.summary"
   ]
  }
 ],
 "metadata": {
  "kernelspec": {
   "display_name": "cosi",
   "language": "python",
   "name": "cosi"
  },
  "language_info": {
   "codemirror_mode": {
    "name": "ipython",
    "version": 3
   },
   "file_extension": ".py",
   "mimetype": "text/x-python",
   "name": "python",
   "nbconvert_exporter": "python",
   "pygments_lexer": "ipython3",
   "version": "3.11.13"
  }
 },
 "nbformat": 4,
 "nbformat_minor": 5
}
